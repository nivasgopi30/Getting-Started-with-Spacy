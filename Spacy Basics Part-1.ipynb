{
 "cells": [
  {
   "cell_type": "code",
   "execution_count": 1,
   "id": "2b4434cf-8a25-474b-a072-482f68cb49bf",
   "metadata": {},
   "outputs": [],
   "source": [
    "import spacy\n",
    "from spacy.matcher import Matcher"
   ]
  },
  {
   "cell_type": "code",
   "execution_count": 2,
   "id": "b4ab274e-facb-4450-82e5-5f2bc5599f26",
   "metadata": {},
   "outputs": [],
   "source": [
    "# Matching iPhone X with rule based matching\n",
    "nlp = spacy.load('en_core_web_sm')"
   ]
  },
  {
   "cell_type": "code",
   "execution_count": 3,
   "id": "58e8dfcc-e839-4e59-b735-9b82171f91cf",
   "metadata": {},
   "outputs": [],
   "source": [
    "doc = nlp(\"Upcoming iPhone X release date leaked as Apple reveals pre-orders\")"
   ]
  },
  {
   "cell_type": "code",
   "execution_count": 4,
   "id": "5460910c-51b8-4734-b3df-e9424a41ae8c",
   "metadata": {},
   "outputs": [
    {
     "name": "stdout",
     "output_type": "stream",
     "text": [
      "Upcoming\n",
      "iPhone\n",
      "X\n",
      "release\n",
      "date\n",
      "leaked\n",
      "as\n",
      "Apple\n",
      "reveals\n",
      "pre\n",
      "-\n",
      "orders\n"
     ]
    }
   ],
   "source": [
    "for token in doc:\n",
    "    print(token)"
   ]
  },
  {
   "cell_type": "code",
   "execution_count": 5,
   "id": "88196757-c565-4215-b320-185b0fa758e9",
   "metadata": {},
   "outputs": [
    {
     "name": "stdout",
     "output_type": "stream",
     "text": [
      "Apple\n"
     ]
    }
   ],
   "source": [
    "for ent in doc.ents:\n",
    "    print(ent)"
   ]
  },
  {
   "cell_type": "code",
   "execution_count": 6,
   "id": "a6db17aa-b0a7-431e-8f17-08f05dae05f3",
   "metadata": {},
   "outputs": [],
   "source": [
    "matcher = Matcher(nlp.vocab)\n",
    "pattern = [{'TEXT':'iPhone'}, {'TEXT':'X'}]\n",
    "matcher.add('IPHONE_X', [pattern])"
   ]
  },
  {
   "cell_type": "code",
   "execution_count": 7,
   "id": "5f48a8b2-19d9-4c93-bde4-3a082ba97112",
   "metadata": {},
   "outputs": [
    {
     "data": {
      "text/plain": [
       "[(5243344123226910127, 1, 3)]"
      ]
     },
     "execution_count": 7,
     "metadata": {},
     "output_type": "execute_result"
    }
   ],
   "source": [
    "matches = matcher(doc)\n",
    "matches"
   ]
  },
  {
   "cell_type": "code",
   "execution_count": 8,
   "id": "b6a2a79d-9834-4237-af8d-e08978b05f5f",
   "metadata": {},
   "outputs": [
    {
     "name": "stdout",
     "output_type": "stream",
     "text": [
      "Match ID: 5243344123226910127, Matches: iPhone X\n"
     ]
    }
   ],
   "source": [
    "for match_id, start, end in matches:\n",
    "    print(f'Match ID: {match_id}, Matches: {doc[start:end]}')"
   ]
  },
  {
   "cell_type": "code",
   "execution_count": 9,
   "id": "3d729b64-5285-4ab9-90b6-e647c896db5c",
   "metadata": {},
   "outputs": [],
   "source": [
    "doc2 = nlp(\n",
    "    \"After making the iOS update you won't notice a radical system-wide \"\n",
    "    \"redesign: nothing like the aesthetic upheaval we got with iOS 7. Most of \"\n",
    "    \"iOS 11's furniture remains the same as in iOS 10. But you will discover \"\n",
    "    \"some tweaks once you delve a little deeper.\"\n",
    ")"
   ]
  },
  {
   "cell_type": "code",
   "execution_count": 10,
   "id": "596a69b2-c607-4a9b-8ee8-1c3e6806a7bf",
   "metadata": {},
   "outputs": [],
   "source": [
    "matcher2 = Matcher(nlp.vocab)\n",
    "pattern = [{'TEXT':'iOS'}, {'IS_DIGIT': True}]\n",
    "matcher2.add('IOS_VERSIONS', [pattern])"
   ]
  },
  {
   "cell_type": "code",
   "execution_count": 11,
   "id": "251ea4ba-4b04-4d16-acd4-eeeebaa2b09c",
   "metadata": {},
   "outputs": [
    {
     "data": {
      "text/plain": [
       "[(4824293791889660742, 24, 26),\n",
       " (4824293791889660742, 29, 31),\n",
       " (4824293791889660742, 38, 40)]"
      ]
     },
     "execution_count": 11,
     "metadata": {},
     "output_type": "execute_result"
    }
   ],
   "source": [
    "matches2 = matcher2(doc2)\n",
    "matches2"
   ]
  },
  {
   "cell_type": "code",
   "execution_count": 12,
   "id": "9488c4ca-9870-4f6e-b602-6c728f739d78",
   "metadata": {},
   "outputs": [
    {
     "name": "stdout",
     "output_type": "stream",
     "text": [
      "Match ID: 4824293791889660742, Matches: iOS 7\n",
      "Match ID: 4824293791889660742, Matches: iOS 11\n",
      "Match ID: 4824293791889660742, Matches: iOS 10\n"
     ]
    }
   ],
   "source": [
    "for match_id, start, end in matches2:\n",
    "    print(f'Match ID: {match_id}, Matches: {doc2[start:end]}')"
   ]
  },
  {
   "cell_type": "code",
   "execution_count": 13,
   "id": "3b857be4-8bd1-4a7a-ae0e-7bc9630e867d",
   "metadata": {},
   "outputs": [],
   "source": [
    "doc3 = nlp(\n",
    "    \"i downloaded Fortnite on my laptop and can't open the game at all. Help? \"\n",
    "    \"so when I was downloading Minecraft, I got the Windows version where it \"\n",
    "    \"is the '.zip' folder and I used the default program to unpack it... do \"\n",
    "    \"I also need to download Winzip?\"\n",
    ")"
   ]
  },
  {
   "cell_type": "code",
   "execution_count": 14,
   "id": "cb0e0fd5-387d-455f-9a8a-7e363899fd06",
   "metadata": {},
   "outputs": [],
   "source": [
    "matcher3 = Matcher(nlp.vocab)\n",
    "pattern = [{'LEMMA':'download'},{'POS':'PROPN'}]\n",
    "matcher3.add('IDENTIFY_TENSES', [pattern])\n",
    "matches3 = matcher3(doc3)"
   ]
  },
  {
   "cell_type": "code",
   "execution_count": 15,
   "id": "dc63e662-7912-4578-93e1-a9c9915f254e",
   "metadata": {},
   "outputs": [
    {
     "name": "stdout",
     "output_type": "stream",
     "text": [
      "Match ID: 7211707697680833343, Matches: downloaded Fortnite\n",
      "Match ID: 7211707697680833343, Matches: downloading Minecraft\n",
      "Match ID: 7211707697680833343, Matches: download Winzip\n"
     ]
    }
   ],
   "source": [
    "for match_id, start, end in matches3:\n",
    "    print(f'Match ID: {match_id}, Matches: {doc3[start:end]}')"
   ]
  },
  {
   "cell_type": "code",
   "execution_count": 16,
   "id": "12427208-dd43-4a42-84ea-951ef4fed7ef",
   "metadata": {},
   "outputs": [],
   "source": [
    "doc4 = nlp(\n",
    "    \"Features of the app include a beautiful design, smart search, automatic \"\n",
    "    \"labels and optional voice responses.\"\n",
    ")"
   ]
  },
  {
   "cell_type": "code",
   "execution_count": 17,
   "id": "c2cf806a-9335-4451-b23d-29a94506c2ed",
   "metadata": {},
   "outputs": [],
   "source": [
    "matcher4 = Matcher(nlp.vocab)\n",
    "pattern = [{'POS':'ADJ'}, {'POS':'NOUN'},{'POS':'NOUN', 'OP':'?'}]\n",
    "matcher4.add('Hkzj',[pattern])\n",
    "matches4 = matcher4(doc4)"
   ]
  },
  {
   "cell_type": "code",
   "execution_count": 18,
   "id": "892acfec-412c-48ce-94ff-5a5f79c8ce88",
   "metadata": {},
   "outputs": [
    {
     "name": "stdout",
     "output_type": "stream",
     "text": [
      "Match ID: 12861291358532660963, Matches: beautiful design\n",
      "Match ID: 12861291358532660963, Matches: smart search\n",
      "Match ID: 12861291358532660963, Matches: automatic labels\n",
      "Match ID: 12861291358532660963, Matches: optional voice\n",
      "Match ID: 12861291358532660963, Matches: optional voice responses\n"
     ]
    }
   ],
   "source": [
    "for match_id, start, end in matches4:\n",
    "    print(f'Match ID: {match_id}, Matches: {doc4[start:end]}')"
   ]
  },
  {
   "cell_type": "code",
   "execution_count": 19,
   "id": "8fddfff2-b278-4de0-a0de-64e7dafec6b4",
   "metadata": {},
   "outputs": [
    {
     "data": {
      "text/plain": [
       "spacy.matcher.matcher.Matcher"
      ]
     },
     "execution_count": 19,
     "metadata": {},
     "output_type": "execute_result"
    }
   ],
   "source": [
    "type(matcher4)"
   ]
  },
  {
   "cell_type": "code",
   "execution_count": 20,
   "id": "74bfd0d9-36c1-49a5-b9f0-cad53dded33c",
   "metadata": {},
   "outputs": [
    {
     "data": {
      "text/plain": [
       "list"
      ]
     },
     "execution_count": 20,
     "metadata": {},
     "output_type": "execute_result"
    }
   ],
   "source": [
    "type(matches4)"
   ]
  },
  {
   "cell_type": "code",
   "execution_count": 21,
   "id": "07f84299-ad8e-4426-b061-62c4a3106eaa",
   "metadata": {},
   "outputs": [
    {
     "data": {
      "text/plain": [
       "[(12861291358532660963, 6, 8),\n",
       " (12861291358532660963, 9, 11),\n",
       " (12861291358532660963, 12, 14),\n",
       " (12861291358532660963, 15, 17),\n",
       " (12861291358532660963, 15, 18)]"
      ]
     },
     "execution_count": 21,
     "metadata": {},
     "output_type": "execute_result"
    }
   ],
   "source": [
    "matches4"
   ]
  },
  {
   "cell_type": "code",
   "execution_count": 22,
   "id": "27e72813-0c8b-4459-801d-ee595bbdd221",
   "metadata": {},
   "outputs": [],
   "source": [
    "from spacy import vocab"
   ]
  },
  {
   "cell_type": "code",
   "execution_count": 23,
   "id": "677a44b4-abc9-4239-9618-27fa525e05e8",
   "metadata": {},
   "outputs": [],
   "source": [
    "nlp = spacy.blank('en')\n",
    "doc = nlp('I have a cat')\n",
    "string_hashid = nlp.vocab.strings['cat']\n",
    "string_hash = doc.vocab.strings['cat'] "
   ]
  },
  {
   "cell_type": "code",
   "execution_count": 24,
   "id": "4b94aaf0-85f9-4d1a-b6de-ccce9ddc2822",
   "metadata": {},
   "outputs": [
    {
     "name": "stdout",
     "output_type": "stream",
     "text": [
      "5439657043933447811 5439657043933447811\n"
     ]
    }
   ],
   "source": [
    "print(string_hash, string_hashid)"
   ]
  },
  {
   "cell_type": "code",
   "execution_count": 25,
   "id": "9acc8fba-fbee-497d-8d73-984c1761e709",
   "metadata": {},
   "outputs": [
    {
     "data": {
      "text/plain": [
       "'cat'"
      ]
     },
     "execution_count": 25,
     "metadata": {},
     "output_type": "execute_result"
    }
   ],
   "source": [
    "obtain_string = nlp.vocab.strings[5439657043933447811]\n",
    "obtain_string"
   ]
  },
  {
   "cell_type": "code",
   "execution_count": 26,
   "id": "874e1a09-9156-4dea-9531-bd442928670e",
   "metadata": {},
   "outputs": [],
   "source": [
    "sample_doc = nlp(\"David Bowie is a PERSON\")"
   ]
  },
  {
   "cell_type": "code",
   "execution_count": 27,
   "id": "bace35cb-4340-4179-a55c-606b6cfb6e90",
   "metadata": {},
   "outputs": [
    {
     "name": "stdout",
     "output_type": "stream",
     "text": [
      "380 PERSON\n"
     ]
    }
   ],
   "source": [
    "person_hashid = sample_doc.vocab.strings['PERSON']\n",
    "person_string = sample_doc.vocab.strings[person_hashid]\n",
    "print(person_hashid, person_string)"
   ]
  },
  {
   "cell_type": "code",
   "execution_count": 28,
   "id": "6a5d7036-b295-40e4-83d3-a5e5541ff544",
   "metadata": {},
   "outputs": [
    {
     "name": "stdout",
     "output_type": "stream",
     "text": [
      "2644858412616767388\n"
     ]
    },
    {
     "ename": "KeyError",
     "evalue": "\"[E018] Can't retrieve string for hash '2644858412616767388'. This usually refers to an issue with the `Vocab` or `StringStore`.\"",
     "output_type": "error",
     "traceback": [
      "\u001b[0;31m---------------------------------------------------------------------------\u001b[0m",
      "\u001b[0;31mKeyError\u001b[0m                                  Traceback (most recent call last)",
      "\u001b[0;32m/tmp/ipykernel_129/2577545129.py\u001b[0m in \u001b[0;36m<cell line: 12>\u001b[0;34m()\u001b[0m\n\u001b[1;32m     10\u001b[0m \u001b[0;34m\u001b[0m\u001b[0m\n\u001b[1;32m     11\u001b[0m \u001b[0;31m# Look up the ID for \"Bowie\" in the vocab\u001b[0m\u001b[0;34m\u001b[0m\u001b[0;34m\u001b[0m\u001b[0m\n\u001b[0;32m---> 12\u001b[0;31m \u001b[0mprint\u001b[0m\u001b[0;34m(\u001b[0m\u001b[0mnlp_de\u001b[0m\u001b[0;34m.\u001b[0m\u001b[0mvocab\u001b[0m\u001b[0;34m.\u001b[0m\u001b[0mstrings\u001b[0m\u001b[0;34m[\u001b[0m\u001b[0mbowie_id\u001b[0m\u001b[0;34m]\u001b[0m\u001b[0;34m)\u001b[0m\u001b[0;34m\u001b[0m\u001b[0;34m\u001b[0m\u001b[0m\n\u001b[0m",
      "\u001b[0;32m~/.conda/envs/default/lib/python3.9/site-packages/spacy/strings.pyx\u001b[0m in \u001b[0;36mspacy.strings.StringStore.__getitem__\u001b[0;34m()\u001b[0m\n",
      "\u001b[0;31mKeyError\u001b[0m: \"[E018] Can't retrieve string for hash '2644858412616767388'. This usually refers to an issue with the `Vocab` or `StringStore`.\""
     ]
    }
   ],
   "source": [
    "import spacy\n",
    "\n",
    "# Create an English and German nlp object\n",
    "nlp = spacy.blank(\"en\")\n",
    "nlp_de = spacy.blank(\"de\")\n",
    "\n",
    "# Get the ID for the string 'Bowie'\n",
    "bowie_id = nlp.vocab.strings[\"Bowie\"]\n",
    "print(bowie_id)\n",
    "\n",
    "# Look up the ID for \"Bowie\" in the vocab\n",
    "print(nlp_de.vocab.strings[bowie_id])"
   ]
  },
  {
   "cell_type": "code",
   "execution_count": 29,
   "id": "a7d96f5c-2193-42b7-88b2-00fd1d691233",
   "metadata": {},
   "outputs": [],
   "source": [
    "from spacy.tokens import Doc,Span\n",
    "from spacy.vocab import Vocab"
   ]
  },
  {
   "cell_type": "code",
   "execution_count": 30,
   "id": "696bccae-0ff9-4453-aa59-da0311c8cc72",
   "metadata": {},
   "outputs": [],
   "source": [
    "nlp = spacy.blank('en')\n",
    "words = [\"spaCy\", \"is\", \"cool\", \"!\"]\n",
    "spaces = [True, True, False, False]\n",
    "doc = Doc(nlp.vocab, words=words, spaces=spaces)"
   ]
  },
  {
   "cell_type": "code",
   "execution_count": 31,
   "id": "e28251d6-bf4d-4c3d-ae6d-6bd4370eade7",
   "metadata": {},
   "outputs": [
    {
     "data": {
      "text/plain": [
       "'spaCy is cool!'"
      ]
     },
     "execution_count": 31,
     "metadata": {},
     "output_type": "execute_result"
    }
   ],
   "source": [
    "doc.text"
   ]
  },
  {
   "cell_type": "code",
   "execution_count": 32,
   "id": "fbd6c247-a809-4132-853b-6bbf50517358",
   "metadata": {},
   "outputs": [
    {
     "data": {
      "text/plain": [
       "'Go, get started!'"
      ]
     },
     "execution_count": 32,
     "metadata": {},
     "output_type": "execute_result"
    }
   ],
   "source": [
    "words2 = [\"Go\", \",\", \"get\", \"started\", \"!\"]\n",
    "spaces = [False, True, True, False, False]\n",
    "doc2 = Doc(nlp.vocab, spaces=spaces, words=words2)\n",
    "doc2.text"
   ]
  },
  {
   "cell_type": "code",
   "execution_count": 33,
   "id": "6346047f-4550-479a-8844-914c6c9fdb01",
   "metadata": {},
   "outputs": [
    {
     "data": {
      "text/plain": [
       "'Oh, really?!'"
      ]
     },
     "execution_count": 33,
     "metadata": {},
     "output_type": "execute_result"
    }
   ],
   "source": [
    "words3 = ['Oh', ',', 'really', '?', '!']\n",
    "spaces3 = [False, True, False, False, False]\n",
    "doc3 = Doc(nlp.vocab, words3, spaces3)\n",
    "doc3.text"
   ]
  },
  {
   "cell_type": "code",
   "execution_count": 34,
   "id": "1297debb-eb57-4d6b-9ad2-c1a959584908",
   "metadata": {},
   "outputs": [
    {
     "data": {
      "text/plain": [
       "()"
      ]
     },
     "execution_count": 34,
     "metadata": {},
     "output_type": "execute_result"
    }
   ],
   "source": [
    "doc3.ents"
   ]
  },
  {
   "cell_type": "code",
   "execution_count": 35,
   "id": "2c552f22-c016-4d66-a5d3-3185e5616866",
   "metadata": {},
   "outputs": [
    {
     "name": "stdout",
     "output_type": "stream",
     "text": [
      "I like David Bowie\n",
      "David Bowie PERSON\n",
      "()\n"
     ]
    }
   ],
   "source": [
    "words4 = [\"I\", \"like\", \"David\", \"Bowie\"]\n",
    "spaces4 = [True, True, True, False]\n",
    "doc4 = Doc(nlp.vocab, words4, spaces4)\n",
    "print(doc4.text)\n",
    "\n",
    "span = Span(doc4, 2, 4, label = 'PERSON')\n",
    "print(span.text, span.label_)\n",
    "print(doc4.ents)"
   ]
  },
  {
   "cell_type": "code",
   "execution_count": 36,
   "id": "179047ce-5f9e-47d3-b66a-1c0571f7aac9",
   "metadata": {},
   "outputs": [],
   "source": [
    "# Adding span to doc's entities\n",
    "doc4.ents = [span]"
   ]
  },
  {
   "cell_type": "code",
   "execution_count": 37,
   "id": "9016f8c5-9638-445c-9a3c-cc1b838da9b0",
   "metadata": {},
   "outputs": [
    {
     "data": {
      "text/plain": [
       "(David Bowie,)"
      ]
     },
     "execution_count": 37,
     "metadata": {},
     "output_type": "execute_result"
    }
   ],
   "source": [
    "doc4.ents"
   ]
  },
  {
   "cell_type": "code",
   "execution_count": 38,
   "id": "effb20a0-4087-42ea-bd9e-b7379fafd36d",
   "metadata": {},
   "outputs": [
    {
     "name": "stdout",
     "output_type": "stream",
     "text": [
      "David Bowie PERSON\n"
     ]
    }
   ],
   "source": [
    "for ent in doc4.ents:\n",
    "    print(ent.text, ent.label_)"
   ]
  },
  {
   "cell_type": "code",
   "execution_count": 39,
   "id": "5b520213-8122-4eb5-b35f-ebd5cc24e4cf",
   "metadata": {},
   "outputs": [],
   "source": [
    "nlp = spacy.load('en_core_web_sm')\n",
    "sample_doc = nlp(\"Berlin looks like a nice city\")"
   ]
  },
  {
   "cell_type": "code",
   "execution_count": 40,
   "id": "f50fbaf7-3ece-403d-841f-54af28e4fdfa",
   "metadata": {},
   "outputs": [
    {
     "name": "stdout",
     "output_type": "stream",
     "text": [
      "Berlin\n"
     ]
    }
   ],
   "source": [
    "for token in sample_doc:\n",
    "    if token.pos_ == 'PROPN':\n",
    "        if sample_doc[token.i + 1].pos_ == 'VERB':\n",
    "            print(token.text)"
   ]
  },
  {
   "cell_type": "code",
   "execution_count": 41,
   "id": "a1baad22-6299-4812-af14-d6a37ad62ea5",
   "metadata": {},
   "outputs": [
    {
     "name": "stdout",
     "output_type": "stream",
     "text": [
      "Berlin PROPN\n",
      "looks VERB\n",
      "like ADP\n",
      "a DET\n",
      "nice ADJ\n",
      "city NOUN\n"
     ]
    }
   ],
   "source": [
    "for token in sample_doc:\n",
    "    print(token, token.pos_)"
   ]
  },
  {
   "cell_type": "code",
   "execution_count": 42,
   "id": "211ba411-3276-4b15-9dce-4bad8fa9aa62",
   "metadata": {},
   "outputs": [
    {
     "data": {
      "text/plain": [
       "array([-0.6334   ,  0.18981  , -0.53544  , -0.52658  , -0.30001  ,\n",
       "        0.30559  , -0.49303  ,  0.14636  ,  0.012273 ,  0.96802  ,\n",
       "        0.0040354,  0.25234  , -0.29864  , -0.014646 , -0.24905  ,\n",
       "       -0.67125  , -0.053366 ,  0.59426  , -0.068034 ,  0.10315  ,\n",
       "        0.66759  ,  0.024617 , -0.37548  ,  0.52557  ,  0.054449 ,\n",
       "       -0.36748  , -0.28013  ,  0.090898 , -0.025687 , -0.5947   ,\n",
       "       -0.24269  ,  0.28603  ,  0.686    ,  0.29737  ,  0.30422  ,\n",
       "        0.69032  ,  0.042784 ,  0.023701 , -0.57165  ,  0.70581  ,\n",
       "       -0.20813  , -0.03204  , -0.12494  , -0.42933  ,  0.31271  ,\n",
       "        0.30352  ,  0.09421  , -0.15493  ,  0.071356 ,  0.15022  ,\n",
       "       -0.41792  ,  0.066394 , -0.034546 , -0.45772  ,  0.57177  ,\n",
       "       -0.82755  , -0.27885  ,  0.71801  , -0.12425  ,  0.18551  ,\n",
       "        0.41342  , -0.53997  ,  0.55864  , -0.015805 , -0.1074   ,\n",
       "       -0.29981  , -0.17271  ,  0.27066  ,  0.043996 ,  0.60107  ,\n",
       "       -0.353    ,  0.6831   ,  0.20703  ,  0.12068  ,  0.24852  ,\n",
       "       -0.15605  ,  0.25812  ,  0.007004 , -0.10741  , -0.097053 ,\n",
       "        0.085628 ,  0.096307 ,  0.20857  , -0.23338  , -0.077905 ,\n",
       "       -0.030906 ,  1.0494   ,  0.55368  , -0.10703  ,  0.052234 ,\n",
       "        0.43407  , -0.13926  ,  0.38115  ,  0.021104 , -0.40922  ,\n",
       "        0.35972  , -0.28898  ,  0.30618  ,  0.060807 , -0.023517 ,\n",
       "        0.58193  , -0.3098   ,  0.21013  , -0.15557  , -0.56913  ,\n",
       "       -1.1364   ,  0.36598  , -0.032666 ,  1.1926   ,  0.12825  ,\n",
       "       -0.090486 , -0.47965  , -0.61164  , -0.16484  , -0.41134  ,\n",
       "        0.19925  ,  0.059183 , -0.20842  ,  0.45223  ,  0.27697  ,\n",
       "       -0.20745  ,  0.025404 , -0.28874  ,  0.040478 , -0.22275  ,\n",
       "       -0.43323  ,  0.76957  , -0.054327 , -0.35213  , -0.30842  ,\n",
       "       -0.48791  , -0.35564  ,  0.19813  , -0.094767 , -0.50918  ,\n",
       "        0.18763  , -0.087555 ,  0.37709  , -0.1322   , -0.096913 ,\n",
       "       -1.9102   ,  0.55813  ,  0.27391  , -0.077744 , -0.43933  ,\n",
       "       -0.10367  , -0.24408  ,  0.41869  ,  0.11659  ,  0.27454  ,\n",
       "        0.81021  , -0.11006  ,  0.43131  ,  0.29095  , -0.49548  ,\n",
       "       -0.31958  , -0.072506 ,  0.020286 ,  0.2179   ,  0.22032  ,\n",
       "       -0.29212  ,  0.75639  ,  0.13598  ,  0.019736 , -0.83104  ,\n",
       "        0.22836  , -0.28669  , -1.0529   ,  0.052771 ,  0.41266  ,\n",
       "        0.50149  ,  0.5323   ,  0.51573  , -0.31806  , -0.4619   ,\n",
       "        0.21739  , -0.43584  , -0.41382  ,  0.042237 , -0.57179  ,\n",
       "        0.067623 , -0.27854  ,  0.090044 ,  0.20633  ,  0.024678 ,\n",
       "       -0.57703  , -0.020183 , -0.53147  , -0.37548  , -0.12795  ,\n",
       "       -0.093662 , -0.0061183,  0.20221  , -0.62296  , -0.29746  ,\n",
       "        0.26935  ,  0.59009  , -0.50382  , -0.69757  ,  0.20157  ,\n",
       "       -0.33592  , -0.45766  ,  0.14061  ,  0.22982  ,  0.044046 ,\n",
       "        0.26386  ,  0.02942  ,  0.34095  ,  1.1496   , -0.15555  ,\n",
       "       -0.064071 ,  0.30139  ,  0.024211 , -0.63515  , -0.73347  ,\n",
       "       -0.10346  , -0.22637  , -0.056392 , -0.16735  , -0.097331 ,\n",
       "       -0.19206  , -0.18866  ,  0.15116  , -0.038048 ,  0.70205  ,\n",
       "        0.11586  , -0.14813  ,  0.0095166, -0.33804  , -0.10158  ,\n",
       "       -0.23829  , -0.22759  ,  0.092504 , -0.29839  , -0.39721  ,\n",
       "        0.26092  ,  0.34594  , -0.47396  , -0.25725  , -0.19257  ,\n",
       "       -0.53071  ,  0.1692   , -0.47252  , -0.17333  , -0.40505  ,\n",
       "        0.046446 , -0.04473  ,  0.33555  , -0.5693   ,  0.31591  ,\n",
       "       -0.21167  , -0.31298  , -0.45923  , -0.083091 ,  0.086822 ,\n",
       "        0.01264  ,  0.43779  ,  0.12651  ,  0.30156  ,  0.022061 ,\n",
       "        0.26549  , -0.29455  , -0.14838  ,  0.033692 , -0.37346  ,\n",
       "       -0.075343 , -0.56498  , -0.24207  , -0.69351  , -0.20277  ,\n",
       "       -0.0081185,  0.030971 ,  0.53615  , -0.16613  , -0.84087  ,\n",
       "        0.74661  ,  0.029132 ,  0.46936  , -0.49755  ,  0.40954  ,\n",
       "       -0.022558 ,  0.21497  , -0.049528 , -0.039799 ,  0.46165  ,\n",
       "        0.26456  ,  0.32985  , -0.04219  , -0.099599 , -0.17312  ,\n",
       "       -0.476    , -0.019048 , -0.41888  , -0.2685   , -0.65281  ,\n",
       "        0.068773 , -0.23881  , -1.1784   ,  0.25504  ,  0.61171  ],\n",
       "      dtype=float32)"
      ]
     },
     "execution_count": 42,
     "metadata": {},
     "output_type": "execute_result"
    }
   ],
   "source": [
    "nlp = spacy.load('en_core_web_md')\n",
    "doc = nlp('Two bananas in pyjamas')\n",
    "bananas_vector = doc[1].vector\n",
    "bananas_vector"
   ]
  },
  {
   "cell_type": "code",
   "execution_count": 43,
   "id": "3da078b7-194f-4810-975f-c9273be5469b",
   "metadata": {},
   "outputs": [
    {
     "name": "stdout",
     "output_type": "stream",
     "text": [
      "0.845685397409251\n"
     ]
    }
   ],
   "source": [
    "nlp = spacy.load('en_core_web_md')\n",
    "doc1 = nlp(\"It's a warm summer day\")\n",
    "doc2 = nlp(\"It's sunny outside\")\n",
    "print(doc1.similarity(doc2))"
   ]
  },
  {
   "cell_type": "code",
   "execution_count": 44,
   "id": "bde11a31-1c64-4437-bd8b-3536ef1a02ff",
   "metadata": {},
   "outputs": [
    {
     "name": "stdout",
     "output_type": "stream",
     "text": [
      "0.18317238986492157\n",
      "0.18317238986492157\n"
     ]
    }
   ],
   "source": [
    "token1 = nlp('TV')[0]\n",
    "token2 = nlp('books')[0]\n",
    "print(token1.similarity(token2))\n",
    "print(token2.similarity(token1))"
   ]
  },
  {
   "cell_type": "code",
   "execution_count": 45,
   "id": "1b41427a-7668-4710-a202-80fdb3cc2328",
   "metadata": {},
   "outputs": [
    {
     "name": "stdout",
     "output_type": "stream",
     "text": [
      "0.7609225511550903\n"
     ]
    }
   ],
   "source": [
    "doc = nlp(\"This was a great restaurant. Afterwards, we went to a really nice bar.\")\n",
    "span1 = doc[3:5]\n",
    "span2 = doc[11:]\n",
    "print(span1.similarity(span2))"
   ]
  },
  {
   "cell_type": "code",
   "execution_count": 46,
   "id": "d5fe2d9b-8c7c-4078-8d79-93ea926b7afc",
   "metadata": {},
   "outputs": [
    {
     "name": "stdout",
     "output_type": "stream",
     "text": [
      "PATTERN1 Amazon Prime\n",
      "PATTERN2 ad-free viewing\n",
      "PATTERN1 Amazon Prime\n",
      "PATTERN2 ad-free viewing\n",
      "PATTERN2 ad-free viewing\n",
      "PATTERN2 ad-free viewing\n"
     ]
    }
   ],
   "source": [
    "nlp = spacy.load(\"en_core_web_sm\")\n",
    "doc = nlp(\n",
    "    \"Twitch Prime, the perks program for Amazon Prime members offering free \"\n",
    "    \"loot, games and other benefits, is ditching one of its best features: \"\n",
    "    \"ad-free viewing. According to an email sent out to Amazon Prime members \"\n",
    "    \"today, ad-free viewing will no longer be included as a part of Twitch \"\n",
    "    \"Prime for new members, beginning on September 14. However, members with \"\n",
    "    \"existing annual subscriptions will be able to continue to enjoy ad-free \"\n",
    "    \"viewing until their subscription comes up for renewal. Those with \"\n",
    "    \"monthly subscriptions will have access to ad-free viewing until October 15.\"\n",
    ")\n",
    "\n",
    "# Create the match patterns\n",
    "pattern1 = [{\"TEXT\": \"Amazon\"}, {\"IS_TITLE\": True, \"POS\": \"PROPN\"}]\n",
    "pattern2 = [{\"LOWER\": \"ad\"}, {'TEXT':'-'}, {'LOWER':'free'}, {\"POS\": \"NOUN\"}]\n",
    "\n",
    "# Initialize the Matcher and add the patterns\n",
    "matcher = Matcher(nlp.vocab)\n",
    "matcher.add(\"PATTERN1\", [pattern1])\n",
    "matcher.add(\"PATTERN2\", [pattern2])\n",
    "\n",
    "# Iterate over the matches\n",
    "for match_id, start, end in matcher(doc):\n",
    "    # Print pattern string name and text of matched span\n",
    "    print(doc.vocab.strings[match_id], doc[start:end].text)"
   ]
  },
  {
   "cell_type": "code",
   "execution_count": 47,
   "id": "95168a59-575f-40ef-9547-58402f838836",
   "metadata": {},
   "outputs": [],
   "source": [
    "import json"
   ]
  },
  {
   "cell_type": "code",
   "execution_count": 48,
   "id": "b6cff7d5-7d33-43d6-9cec-ef77e0333d48",
   "metadata": {},
   "outputs": [
    {
     "data": {
      "text/plain": [
       "list"
      ]
     },
     "execution_count": 48,
     "metadata": {},
     "output_type": "execute_result"
    }
   ],
   "source": [
    "with open('./countries.json', encoding='utf8') as f:\n",
    "    COUNTRIES = json.loads(f.read())\n",
    "type(COUNTRIES)"
   ]
  },
  {
   "cell_type": "code",
   "execution_count": 49,
   "id": "8a818d6f-df79-470f-94d8-eac19294d70a",
   "metadata": {},
   "outputs": [],
   "source": [
    "from spacy.matcher import PhraseMatcher\n",
    "nlp = spacy.blank(\"en\")\n",
    "doc = nlp(\"Czech Republic may help Slovakia protect its airspace\")"
   ]
  },
  {
   "cell_type": "code",
   "execution_count": 50,
   "id": "b9a253cf-44c2-41ff-92bd-5475312ea75b",
   "metadata": {},
   "outputs": [],
   "source": [
    "matcher = PhraseMatcher(nlp.vocab)\n",
    "pattern = list(nlp.pipe(COUNTRIES))\n",
    "matcher.add('COUNTRY', pattern)\n",
    "matches = matcher(doc)"
   ]
  },
  {
   "cell_type": "code",
   "execution_count": 51,
   "id": "32196b46-4701-472d-86b6-e5ee1bfbce0b",
   "metadata": {},
   "outputs": [
    {
     "name": "stdout",
     "output_type": "stream",
     "text": [
      "Czech Republic\n",
      "Slovakia\n"
     ]
    }
   ],
   "source": [
    "for match_id, start, end in matches:\n",
    "    print(doc[start:end])"
   ]
  },
  {
   "cell_type": "code",
   "execution_count": 52,
   "id": "c11465c6-8365-49ba-a626-22bde58020ce",
   "metadata": {},
   "outputs": [],
   "source": [
    "with open('./country_text.txt', encoding='utf8') as file:\n",
    "    TEXT = file.read()"
   ]
  },
  {
   "cell_type": "code",
   "execution_count": 53,
   "id": "78d33d6c-544f-4cfa-b64f-b1d9b9c7fc50",
   "metadata": {},
   "outputs": [],
   "source": [
    "nlp = spacy.load(\"en_core_web_sm\")\n",
    "doc = nlp(TEXT)\n",
    "matcher = PhraseMatcher(nlp.vocab)\n",
    "patterns = list(nlp.pipe(COUNTRIES))\n",
    "matcher.add(\"COUNTRY\", patterns)"
   ]
  },
  {
   "cell_type": "code",
   "execution_count": 54,
   "id": "01f0312d-4275-4915-a418-fc4f4333bf09",
   "metadata": {},
   "outputs": [
    {
     "data": {
      "text/plain": [
       "[Afghanistan,\n",
       " Åland Islands,\n",
       " Albania,\n",
       " Algeria,\n",
       " American Samoa,\n",
       " Andorra,\n",
       " Angola,\n",
       " Anguilla,\n",
       " Antarctica,\n",
       " Antigua and Barbuda,\n",
       " Argentina,\n",
       " Armenia,\n",
       " Aruba,\n",
       " Australia,\n",
       " Austria,\n",
       " Azerbaijan,\n",
       " Bahamas,\n",
       " Bahrain,\n",
       " Bangladesh,\n",
       " Barbados,\n",
       " Belarus,\n",
       " Belgium,\n",
       " Belize,\n",
       " Benin,\n",
       " Bermuda,\n",
       " Bhutan,\n",
       " Bolivia (Plurinational State of),\n",
       " Bonaire, Sint Eustatius and Saba,\n",
       " Bosnia and Herzegovina,\n",
       " Botswana,\n",
       " Bouvet Island,\n",
       " Brazil,\n",
       " British Indian Ocean Territory,\n",
       " United States Minor Outlying Islands,\n",
       " Virgin Islands (British),\n",
       " Virgin Islands (U.S.),\n",
       " Brunei Darussalam,\n",
       " Bulgaria,\n",
       " Burkina Faso,\n",
       " Burundi,\n",
       " Cambodia,\n",
       " Cameroon,\n",
       " Canada,\n",
       " Cabo Verde,\n",
       " Cayman Islands,\n",
       " Central African Republic,\n",
       " Chad,\n",
       " Chile,\n",
       " China,\n",
       " Christmas Island,\n",
       " Cocos (Keeling) Islands,\n",
       " Colombia,\n",
       " Comoros,\n",
       " Congo,\n",
       " Congo (Democratic Republic of the),\n",
       " Cook Islands,\n",
       " Costa Rica,\n",
       " Croatia,\n",
       " Cuba,\n",
       " Curaçao,\n",
       " Cyprus,\n",
       " Czech Republic,\n",
       " Denmark,\n",
       " Djibouti,\n",
       " Dominica,\n",
       " Dominican Republic,\n",
       " Ecuador,\n",
       " Egypt,\n",
       " El Salvador,\n",
       " Equatorial Guinea,\n",
       " Eritrea,\n",
       " Estonia,\n",
       " Ethiopia,\n",
       " Falkland Islands (Malvinas),\n",
       " Faroe Islands,\n",
       " Fiji,\n",
       " Finland,\n",
       " France,\n",
       " French Guiana,\n",
       " French Polynesia,\n",
       " French Southern Territories,\n",
       " Gabon,\n",
       " Gambia,\n",
       " Georgia,\n",
       " Germany,\n",
       " Ghana,\n",
       " Gibraltar,\n",
       " Greece,\n",
       " Greenland,\n",
       " Grenada,\n",
       " Guadeloupe,\n",
       " Guam,\n",
       " Guatemala,\n",
       " Guernsey,\n",
       " Guinea,\n",
       " Guinea-Bissau,\n",
       " Guyana,\n",
       " Haiti,\n",
       " Heard Island and McDonald Islands,\n",
       " Holy See,\n",
       " Honduras,\n",
       " Hong Kong,\n",
       " Hungary,\n",
       " Iceland,\n",
       " India,\n",
       " Indonesia,\n",
       " Côte d'Ivoire,\n",
       " Iran (Islamic Republic of),\n",
       " Iraq,\n",
       " Ireland,\n",
       " Isle of Man,\n",
       " Israel,\n",
       " Italy,\n",
       " Jamaica,\n",
       " Japan,\n",
       " Jersey,\n",
       " Jordan,\n",
       " Kazakhstan,\n",
       " Kenya,\n",
       " Kiribati,\n",
       " Kuwait,\n",
       " Kyrgyzstan,\n",
       " Lao People's Democratic Republic,\n",
       " Latvia,\n",
       " Lebanon,\n",
       " Lesotho,\n",
       " Liberia,\n",
       " Libya,\n",
       " Liechtenstein,\n",
       " Lithuania,\n",
       " Luxembourg,\n",
       " Macao,\n",
       " Macedonia (the former Yugoslav Republic of),\n",
       " Madagascar,\n",
       " Malawi,\n",
       " Malaysia,\n",
       " Maldives,\n",
       " Mali,\n",
       " Malta,\n",
       " Marshall Islands,\n",
       " Martinique,\n",
       " Mauritania,\n",
       " Mauritius,\n",
       " Mayotte,\n",
       " Mexico,\n",
       " Micronesia (Federated States of),\n",
       " Moldova (Republic of),\n",
       " Monaco,\n",
       " Mongolia,\n",
       " Montenegro,\n",
       " Montserrat,\n",
       " Morocco,\n",
       " Mozambique,\n",
       " Myanmar,\n",
       " Namibia,\n",
       " Nauru,\n",
       " Nepal,\n",
       " Netherlands,\n",
       " New Caledonia,\n",
       " New Zealand,\n",
       " Nicaragua,\n",
       " Niger,\n",
       " Nigeria,\n",
       " Niue,\n",
       " Norfolk Island,\n",
       " Korea (Democratic People's Republic of),\n",
       " Northern Mariana Islands,\n",
       " Norway,\n",
       " Oman,\n",
       " Pakistan,\n",
       " Palau,\n",
       " Palestine, State of,\n",
       " Panama,\n",
       " Papua New Guinea,\n",
       " Paraguay,\n",
       " Peru,\n",
       " Philippines,\n",
       " Pitcairn,\n",
       " Poland,\n",
       " Portugal,\n",
       " Puerto Rico,\n",
       " Qatar,\n",
       " Republic of Kosovo,\n",
       " Réunion,\n",
       " Romania,\n",
       " Russian Federation,\n",
       " Rwanda,\n",
       " Saint Barthélemy,\n",
       " Saint Helena, Ascension and Tristan da Cunha,\n",
       " Saint Kitts and Nevis,\n",
       " Saint Lucia,\n",
       " Saint Martin (French part),\n",
       " Saint Pierre and Miquelon,\n",
       " Saint Vincent and the Grenadines,\n",
       " Samoa,\n",
       " San Marino,\n",
       " Sao Tome and Principe,\n",
       " Saudi Arabia,\n",
       " Senegal,\n",
       " Serbia,\n",
       " Seychelles,\n",
       " Sierra Leone,\n",
       " Singapore,\n",
       " Sint Maarten (Dutch part),\n",
       " Slovakia,\n",
       " Slovenia,\n",
       " Solomon Islands,\n",
       " Somalia,\n",
       " South Africa,\n",
       " South Georgia and the South Sandwich Islands,\n",
       " Korea (Republic of),\n",
       " South Sudan,\n",
       " Spain,\n",
       " Sri Lanka,\n",
       " Sudan,\n",
       " Suriname,\n",
       " Svalbard and Jan Mayen,\n",
       " Swaziland,\n",
       " Sweden,\n",
       " Switzerland,\n",
       " Syrian Arab Republic,\n",
       " Taiwan,\n",
       " Tajikistan,\n",
       " Tanzania, United Republic of,\n",
       " Thailand,\n",
       " Timor-Leste,\n",
       " Togo,\n",
       " Tokelau,\n",
       " Tonga,\n",
       " Trinidad and Tobago,\n",
       " Tunisia,\n",
       " Turkey,\n",
       " Turkmenistan,\n",
       " Turks and Caicos Islands,\n",
       " Tuvalu,\n",
       " Uganda,\n",
       " Ukraine,\n",
       " United Arab Emirates,\n",
       " United Kingdom of Great Britain and Northern Ireland,\n",
       " United States of America,\n",
       " Uruguay,\n",
       " Uzbekistan,\n",
       " Vanuatu,\n",
       " Venezuela (Bolivarian Republic of),\n",
       " Viet Nam,\n",
       " Wallis and Futuna,\n",
       " Western Sahara,\n",
       " Yemen,\n",
       " Zambia,\n",
       " Zimbabwe]"
      ]
     },
     "execution_count": 54,
     "metadata": {},
     "output_type": "execute_result"
    }
   ],
   "source": [
    "patterns"
   ]
  },
  {
   "cell_type": "code",
   "execution_count": 55,
   "id": "bfd8764f-6b96-4853-9cf0-61ae1464cbc8",
   "metadata": {},
   "outputs": [],
   "source": [
    "doc.ents = []"
   ]
  },
  {
   "cell_type": "code",
   "execution_count": 56,
   "id": "8cf55839-b214-4e9a-be1f-e99332a29c92",
   "metadata": {},
   "outputs": [
    {
     "name": "stdout",
     "output_type": "stream",
     "text": [
      "in Namibia\n",
      "in South Africa\n",
      "Africa Cambodia\n",
      "of Kuwait\n",
      "as Somalia\n",
      "Somalia Haiti\n",
      "Haiti Mozambique\n",
      "in Somalia\n",
      "for Rwanda\n",
      "Britain Singapore\n",
      "War Sierra Leone\n",
      "of Afghanistan\n",
      "invaded Iraq\n",
      "in Sudan\n",
      "of Congo\n",
      "earthquake Haiti\n"
     ]
    }
   ],
   "source": [
    "for match_id, start, end in matcher(doc):\n",
    "    span = Span(doc, start, end, label=\"GPE\")\n",
    "    doc.ents = list(doc.ents) + [span]\n",
    "    span_root_head = span.root.head\n",
    "    print(span_root_head.text, span.text)"
   ]
  },
  {
   "cell_type": "code",
   "execution_count": 57,
   "id": "ddcbf96a-f9d2-4a13-a6c8-23b445f7c4db",
   "metadata": {},
   "outputs": [
    {
     "data": {
      "text/plain": [
       "(Namibia,\n",
       " South Africa,\n",
       " Cambodia,\n",
       " Kuwait,\n",
       " Somalia,\n",
       " Haiti,\n",
       " Mozambique,\n",
       " Somalia,\n",
       " Rwanda,\n",
       " Singapore,\n",
       " Sierra Leone,\n",
       " Afghanistan,\n",
       " Iraq,\n",
       " Sudan,\n",
       " Congo,\n",
       " Haiti)"
      ]
     },
     "execution_count": 57,
     "metadata": {},
     "output_type": "execute_result"
    }
   ],
   "source": [
    "doc.ents"
   ]
  }
 ],
 "metadata": {
  "kernelspec": {
   "display_name": "default:Python",
   "language": "python",
   "name": "conda-env-default-py"
  },
  "language_info": {
   "codemirror_mode": {
    "name": "ipython",
    "version": 3
   },
   "file_extension": ".py",
   "mimetype": "text/x-python",
   "name": "python",
   "nbconvert_exporter": "python",
   "pygments_lexer": "ipython3",
   "version": "3.9.13"
  }
 },
 "nbformat": 4,
 "nbformat_minor": 5
}
